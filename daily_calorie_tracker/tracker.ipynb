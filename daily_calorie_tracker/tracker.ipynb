{
 "cells": [
  {
   "cell_type": "code",
   "execution_count": null,
   "id": "03e4d87e-39b4-402b-8933-85c2ae147812",
   "metadata": {},
   "outputs": [
    {
     "name": "stdout",
     "output_type": "stream",
     "text": [
      "Welcome to the Daily Calorie Tracker CLI Tool!\n",
      "Track your meals and calories easily.\n"
     ]
    },
    {
     "name": "stdin",
     "output_type": "stream",
     "text": [
      "Enter the number of meals you want to track:  7\n",
      "Enter meal name #1:  rice\n"
     ]
    }
   ],
   "source": [
    "# tracker.py\n",
    "# Name: [Lakshay]\n",
    "# Title: Daily Calorie Tracker CLI\n",
    "\n",
    "print(\"Welcome to the Daily Calorie Tracker CLI Tool!\")\n",
    "print(\"Track your meals and calories easily.\")\n",
    "\n",
    "# Task 2: Input meal data\n",
    "meal_names = []\n",
    "calorie_amounts = []\n",
    "\n",
    "num_meals = int(input(\"Enter the number of meals you want to track: \"))\n",
    "\n",
    "for i in range(num_meals):\n",
    "    meal = input(f\"Enter meal name #{i+1}: \")\n",
    "    calories = float(input(f\"Enter calories for {meal}: \"))\n",
    "    meal_names.append(meal)\n",
    "    calorie_amounts.append(calories)\n",
    "\n",
    "# Task 3: Calorie calculations\n",
    "total_calories = sum(calorie_amounts)\n",
    "average_calories = total_calories / num_meals\n",
    "\n",
    "# Fixed: Removed newline after opening quote\n",
    "daily_limit = float(input(\"Enter your daily calorie limit: \"))\n",
    "\n",
    "# Task 4: Warning system\n",
    "# Fixed: Removed newlines after opening quotes\n",
    "if total_calories > daily_limit:\n",
    "    print(\"Warning: Your total calorie intake exceeds your daily limit!\")\n",
    "else:\n",
    "    print(\"Great! Your calorie intake is within the daily limit.\")\n",
    "\n",
    "# Task 5: Formatted output\n",
    "# Fixed: Removed newline after opening quote\n",
    "print(\"\\nMeal Name\\tCalories\")\n",
    "print(\"---------------------------\")\n",
    "for meal, cal in zip(meal_names, calorie_amounts):\n",
    "    print(f\"{meal:10}\\t{cal:.2f}\")\n",
    "print(\"---------------------------\")\n",
    "print(f\"{'Total':10}\\t{total_calories:.2f}\")\n",
    "print(f\"{'Average':10}\\t{average_calories:.2f}\")"
   ]
  },
  {
   "cell_type": "code",
   "execution_count": null,
   "id": "1b9770a9-2c61-49e3-980e-8ff857448020",
   "metadata": {},
   "outputs": [],
   "source": []
  }
 ],
 "metadata": {
  "kernelspec": {
   "display_name": "Python [conda env:base] *",
   "language": "python",
   "name": "conda-base-py"
  },
  "language_info": {
   "codemirror_mode": {
    "name": "ipython",
    "version": 3
   },
   "file_extension": ".py",
   "mimetype": "text/x-python",
   "name": "python",
   "nbconvert_exporter": "python",
   "pygments_lexer": "ipython3",
   "version": "3.13.5"
  }
 },
 "nbformat": 4,
 "nbformat_minor": 5
}
